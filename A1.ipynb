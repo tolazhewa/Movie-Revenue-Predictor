{
 "cells": [
  {
   "cell_type": "markdown",
   "metadata": {},
   "source": [
    "# CPS 840 / CP 8318\n",
    "# Assignment 1 - Tolaz Hewa - 500590503\n",
    "## Part 1 [20 Marks]"
   ]
  },
  {
   "cell_type": "markdown",
   "metadata": {},
   "source": [
    "[6 Marks] \n",
    "# a\n",
    "\n",
    "Write a simple implementation of a least-squares solution to linear regression that applies an iterative update to adjust the weights. Demonstrate the success of your approach on the sample data loaded below, and visualize the best fit plotted as a line (consider using linspace) against a scatter plot of the x and y test values.\n"
   ]
  },
  {
   "cell_type": "code",
   "execution_count": 369,
   "metadata": {},
   "outputs": [],
   "source": [
    "from sklearn import datasets, linear_model\n",
    "from sklearn.metrics import mean_squared_error, r2_score\n",
    "import numpy as np\n",
    "import matplotlib.pyplot as plt\n",
    "\n",
    "# Load the diabetes dataset\n",
    "diabetes = datasets.load_diabetes()\n",
    "\n",
    "# Use only one feature\n",
    "diabetes_X = diabetes.data[:, np.newaxis, 2]\n",
    "\n",
    "# Split the data into training/testing sets\n",
    "diabetes_X_train = diabetes_X[:-20]\n",
    "diabetes_X_test = diabetes_X[-20:]\n",
    "\n",
    "# Split the targets into training/testing sets\n",
    "diabetes_y_train = diabetes.target[:-20]\n",
    "diabetes_y_test = diabetes.target[-20:]\n"
   ]
  },
  {
   "cell_type": "code",
   "execution_count": 382,
   "metadata": {},
   "outputs": [
    {
     "name": "stdout",
     "output_type": "stream",
     "text": [
      "BIAS: 152.97455651267677\n",
      "WEIGHTS: [840.920691033662]\n",
      "Mean Squared Error: 3976.4676461772506\n",
      "Variance score: 0.47257544798116635\n"
     ]
    },
    {
     "data": {
      "text/plain": [
       "<matplotlib.collections.PathCollection at 0x146c36630>"
      ]
     },
     "execution_count": 382,
     "metadata": {},
     "output_type": "execute_result"
    },
    {
     "data": {
      "image/png": "[encoded data removed]",
      "text/plain": [
       "<Figure size 432x288 with 1 Axes>"
      ]
     },
     "metadata": {
      "needs_background": "light"
     },
     "output_type": "display_data"
    }
   ],
   "source": [
    "class linear_regression(object):\n",
    "    def __init__(self,training_input, training_output, learning_rate = 0.1, iterations = 10000, threshold = 0.01):\n",
    "        self.training_input = training_input\n",
    "        self.training_output = training_output\n",
    "        self.iterations = iterations\n",
    "        self.threshold = threshold\n",
    "        self.learning_rate = learning_rate\n",
    "        self.bias = 0.0\n",
    "        self.weights = []\n",
    "        self.weights += [1.0] * len(training_input[0])\n",
    "        self.training_pred = []\n",
    "        self.calculate_training_pred()\n",
    "        \n",
    "    def dot(self, a, b):\n",
    "        res = 0\n",
    "        for i in range(len(a)):\n",
    "            res += a[i]*b[i]\n",
    "        return res\n",
    "    \n",
    "    def get_prediction(self, input_list):\n",
    "        return self.bias + self.dot(self.weights,input_list)\n",
    "    \n",
    "    def get_mean_squared_error(self):\n",
    "        res = 0.0\n",
    "        for i in range(len(self.training_input)):\n",
    "            res += (self.get_prediction(self.training_input[i]) - self.training_output[i])**2\n",
    "        res = res / len(self.training_input)\n",
    "        return res\n",
    "    \n",
    "    def get_change_for_weight(self, weight_index):\n",
    "        res = 0.0\n",
    "        for i in range(len(self.training_input)):\n",
    "                res += (self.get_prediction(self.training_input[i]) - self.training_output[i]) * self.training_input[i][weight_index]\n",
    "        res = res / len(self.training_input)\n",
    "        return res\n",
    "    \n",
    "    def get_change_for_bias(self):\n",
    "        res = 0.0\n",
    "        for i in range(len(self.training_input)):\n",
    "            res += self.get_prediction(self.training_input[i]) - self.training_output[i]\n",
    "        res = res / len(self.training_input)\n",
    "        return res\n",
    "        \n",
    "    def calculate_training_pred(self):\n",
    "        self.training_pred = []\n",
    "        for val in self.training_input:\n",
    "            self.training_pred += [self.get_prediction(val)]\n",
    "        \n",
    "    def train(self):\n",
    "        for i in range(self.iterations):\n",
    "            below_threshold = 0\n",
    "            value = self.get_change_for_bias()\n",
    "            \n",
    "            if abs(value) < self.threshold:\n",
    "                below_threshold += 1\n",
    "            else:\n",
    "                self.bias -= value * self.learning_rate\n",
    "            \n",
    "            for j in range(len(self.weights)):\n",
    "                value = self.get_change_for_weight(j)\n",
    "                if abs(value) < self.threshold:\n",
    "                    below_threshold += 1\n",
    "                else:\n",
    "                    self.weights[j] -= value * self.learning_rate\n",
    "            if below_threshold == len(self.weights) + 1:\n",
    "                print(\"Met the threshold\" + str(i))\n",
    "                break\n",
    "                \n",
    "        self.calculate_training_pred()\n",
    "    \n",
    "    def get_training_predictions(self):\n",
    "        return self.training_pred\n",
    "    \n",
    "    def get_predictions(self, inputs):\n",
    "        res = []\n",
    "        for elem in inputs:\n",
    "            res += [self.get_prediction(elem)]\n",
    "        return res\n",
    "    \n",
    "    def get_weights(self):\n",
    "        return self.weights\n",
    "    \n",
    "    def get_bias(self):\n",
    "        return self.bias\n",
    "\n",
    "lr = linear_regression(diabetes_X_train, diabetes_y_train)\n",
    "lr.train()\n",
    "\n",
    "print(\"BIAS: \" + str(lr.get_bias()))\n",
    "print(\"WEIGHTS: \" + str(lr.get_weights()))\n",
    "print(\"Mean Squared Error: \" + str(lr.get_mean_squared_error()))\n",
    "print('Variance score: ' + str(r2_score(diabetes_y_test, diabetes_y_pred)))\n",
    "\n",
    "diabetes_y_pred = lr.get_predictions(diabetes_X_test)\n",
    "\n",
    "plt.plot(diabetes_X_test, diabetes_y_pred, color='blue', linewidth=3)\n",
    "plt.scatter(diabetes_X_test, diabetes_y_test, color='red')\n",
    "\n",
    "\n",
    "\n",
    "            \n",
    "        "
   ]
  },
  {
   "cell_type": "markdown",
   "metadata": {},
   "source": [
    "[2 Marks]\n",
    "# b"
   ]
  },
  {
   "cell_type": "markdown",
   "metadata": {},
   "source": [
    "Load data on movie ratings, revenue, metadata etc. Split data into a relevant set for training, testing and classification. Explain your choice of split. It is ok if you decide to split into these subsets after part c -> if you do so, mention this at the end of your explanation.\n",
    "\n",
    "Explanation:\n"
   ]
  },
  {
   "cell_type": "code",
   "execution_count": 356,
   "metadata": {
    "scrolled": false
   },
   "outputs": [],
   "source": [
    "import pandas as pd \n",
    "import numpy as np\n",
    "import math\n",
    "from ast import literal_eval\n",
    "import warnings; warnings.simplefilter('ignore')\n",
    "from sklearn.preprocessing import MultiLabelBinarizer\n",
    "\n",
    "mlb = MultiLabelBinarizer()\n",
    "meta_data=pd.read_csv('movies_metadata.csv', low_memory=False) # You may wish to specify types, or process columns once read\n",
    "ratings_small=pd.read_csv('ratings_small.csv')\n",
    "ratings=pd.read_csv('ratings.csv')\n",
    "keywords=pd.read_csv('keywords.csv')\n",
    "credits=pd.read_csv('credits.csv')\n",
    "links=pd.read_csv('links.csv')\n",
    "links_small=pd.read_csv('links_small.csv')"
   ]
  },
  {
   "cell_type": "markdown",
   "metadata": {},
   "source": [
    "[5 Marks]\n",
    "# c"
   ]
  },
  {
   "cell_type": "markdown",
   "metadata": {},
   "source": [
    "Organize the data into relevant features for predicting revenue. <br>\n",
    "i.  Explain your feature sets and organization. <br>\n",
    "\n",
    "YOUR EXPLANATION HERE\n",
    "\n",
    "ii. Plot movie revenue vs. rating as a scatter plot and discuss your findings. <br>\n",
    "\n",
    "YOUR EXPLANATION HERE\n",
    "\n",
    "iii. Visualize any other relationships you deem interesting and explain. <br>\n",
    "\n",
    "YOUR EXPLANATION HERE\n"
   ]
  },
  {
   "cell_type": "code",
   "execution_count": 357,
   "metadata": {},
   "outputs": [
    {
     "name": "stdout",
     "output_type": "stream",
     "text": [
      "Target Train: 1259\n",
      "Target Test: 315\n",
      "RF Train: 1259\n",
      "RF Test: 315\n"
     ]
    }
   ],
   "source": [
    "# Create a new DataFrame to store relevant features\n",
    "relevant_features = pd.DataFrame()\n",
    "relevant_features['id'] = meta_data['id']\n",
    "relevant_features['revenue'] = meta_data['revenue']\n",
    "relevant_features = relevant_features.drop(relevant_features[relevant_features.revenue == 0].index)\n",
    "\n",
    "# Months\n",
    "relevant_features['month'] = pd.to_datetime(meta_data['release_date'], errors='coerce').dt.month\n",
    "relevant_features['month'] = relevant_features['month'].fillna(0).astype(int)\n",
    "\n",
    "# Genres\n",
    "meta_data['genres'] = meta_data['genres'].fillna('[]').apply(literal_eval).apply(lambda x: [\"genre_\" + i['name'] for i in x] if isinstance(x, list) else [])\n",
    "relevant_features = relevant_features.join(pd.DataFrame(mlb.fit_transform(meta_data['genres']),columns=mlb.classes_, index=meta_data.index))\n",
    "\n",
    "# Original Languages\n",
    "orig_lan = meta_data['original_language']\n",
    "orig_lan = pd.get_dummies(orig_lan, prefix=\"lang\", columns=['original_language'])\n",
    "relevant_features = relevant_features.join(orig_lan)\n",
    "\n",
    "# Budget\n",
    "relevant_features['budget'] = meta_data['budget']\n",
    "relevant_features = relevant_features.drop(relevant_features[relevant_features.budget == 0].index)\n",
    "\n",
    "# Runtime\n",
    "relevant_features['runtime'] = meta_data['runtime']\n",
    "relevant_features = relevant_features.drop(relevant_features[relevant_features.runtime == 0].index)\n",
    "\n",
    "# Ratings\n",
    "ratings_average = ratings.groupby('movieId', as_index=False).rating.mean()\n",
    "relevant_features = pd.merge(relevant_features, ratings_average, left_on='id', right_on='movieId', how='inner')\n",
    "\n",
    "# Reorganize (sort) the features and take out id\n",
    "relevant_features = relevant_features.reindex_axis(sorted(relevant_features.columns), axis=1)\n",
    "relevant_features = relevant_features.drop(\"id\",axis=1)\n",
    "relevant_features = relevant_features.drop(\"movieId\",axis=1)\n",
    "\n",
    "# Get the target (true) outputs\n",
    "target = pd.DataFrame()\n",
    "target['revenue'] = relevant_features['revenue']\n",
    "target_train = rf_true[:math.floor(len(target)*0.8)]\n",
    "target_test = rf_true[math.floor(len(target)*0.8):]\n",
    "\n",
    "# Remove the revenue from the dataset\n",
    "relevant_features = relevant_features.drop(\"revenue\",axis=1)\n",
    "\n",
    "# Split the data into training data and test data\n",
    "rf_train = relevant_features[:math.floor(len(relevant_features)*0.8)]\n",
    "rf_test = relevant_features[math.floor(len(relevant_features)*0.8):]"
   ]
  },
  {
   "cell_type": "code",
   "execution_count": null,
   "metadata": {},
   "outputs": [],
   "source": []
  },
  {
   "cell_type": "markdown",
   "metadata": {},
   "source": [
    "[3 Marks]\n",
    "# d"
   ]
  },
  {
   "cell_type": "markdown",
   "metadata": {},
   "source": [
    "Train a regression model to predict movie revenue. Plot predicted revenue vs. actual revenue on the test set. Quantify the error in your prediction. (You may use sklearn for this step)"
   ]
  },
  {
   "cell_type": "code",
   "execution_count": 374,
   "metadata": {},
   "outputs": [
    {
     "name": "stdout",
     "output_type": "stream",
     "text": [
      "Coefficients: \n",
      " [[ 2.35918969e+00 -3.23748960e+06  2.90005447e+07  5.36870514e+07\n",
      "  -9.79872108e+06 -2.19189124e+07 -1.08131727e+07 -3.82462989e+07\n",
      "   7.04546653e+07  5.89926497e+06  1.24052167e-06 -8.61615738e+07\n",
      "  -6.75886972e+06 -6.75715094e+06  1.93851098e+06  9.66212081e+06\n",
      "  -2.51969195e+07 -2.98023224e-08 -2.32397413e+07 -1.36484618e+07\n",
      "  -7.46151232e+07 -5.96046448e-08  3.76272656e+07  7.45058060e-09\n",
      "  -1.11758709e-08 -5.21540642e-08 -9.31322575e-09  7.45058060e-09\n",
      "   1.07102096e-08  2.60770321e-08 -1.49011612e-08 -1.49011612e-08\n",
      "  -7.45058060e-09 -3.72529030e-08  2.98023224e-08 -7.23335239e+07\n",
      "  -1.74940445e+07  2.40533076e+07  1.14829849e+07  0.00000000e+00\n",
      "   8.90204352e+06  0.00000000e+00  0.00000000e+00  0.00000000e+00\n",
      "   5.52078142e+07 -5.79729492e+06  0.00000000e+00  0.00000000e+00\n",
      "   0.00000000e+00 -1.18134188e+08  0.00000000e+00  0.00000000e+00\n",
      "   0.00000000e+00  0.00000000e+00  0.00000000e+00  1.75773120e+07\n",
      "   0.00000000e+00 -4.67600134e+07  0.00000000e+00  0.00000000e+00\n",
      "   0.00000000e+00  0.00000000e+00  2.04406487e+07  0.00000000e+00\n",
      "   0.00000000e+00  0.00000000e+00  0.00000000e+00  0.00000000e+00\n",
      "   0.00000000e+00  0.00000000e+00  0.00000000e+00  0.00000000e+00\n",
      "   0.00000000e+00  0.00000000e+00  0.00000000e+00  0.00000000e+00\n",
      "   0.00000000e+00  0.00000000e+00  0.00000000e+00  0.00000000e+00\n",
      "   0.00000000e+00  0.00000000e+00  0.00000000e+00 -1.75902477e+07\n",
      "   0.00000000e+00 -2.04541830e+07 -4.07237079e+07  0.00000000e+00\n",
      "   0.00000000e+00  0.00000000e+00  0.00000000e+00  0.00000000e+00\n",
      "   0.00000000e+00  0.00000000e+00  0.00000000e+00  3.65898217e+07\n",
      "   0.00000000e+00  0.00000000e+00  0.00000000e+00  4.94984085e+07\n",
      "   0.00000000e+00  0.00000000e+00  0.00000000e+00  0.00000000e+00\n",
      "   0.00000000e+00  0.00000000e+00  0.00000000e+00  0.00000000e+00\n",
      "   7.79075968e+07  0.00000000e+00 -8.39670512e+05  2.73671342e+06\n",
      "   1.66195330e+06]]\n",
      "Mean squared error: 15007418352004344.00\n",
      "Variance score: 0.67\n"
     ]
    },
    {
     "data": {
      "text/plain": [
       "<matplotlib.collections.PathCollection at 0x147d29198>"
      ]
     },
     "execution_count": 374,
     "metadata": {},
     "output_type": "execute_result"
    },
    {
     "data": {
      "image/png": "[encoded data removed]",
      "text/plain": [
       "<Figure size 432x288 with 1 Axes>"
      ]
     },
     "metadata": {
      "needs_background": "light"
     },
     "output_type": "display_data"
    }
   ],
   "source": [
    "# Regression model here, plot your fit to the revenue data versus the actual data from the test set as a scatter plot.\n",
    "import matplotlib.pyplot as plt\n",
    "import numpy as np\n",
    "from sklearn import datasets, linear_model\n",
    "from sklearn.metrics import mean_squared_error, r2_score\n",
    "\n",
    "# Create linear regression object\n",
    "regr = linear_model.LinearRegression()\n",
    "\n",
    "# Train the model using the training sets\n",
    "regr.fit(rf_train, target_train)\n",
    "\n",
    "# Make predictions using the testing set\n",
    "target_pred = regr.predict(rf_test)\n",
    "\n",
    "# The coefficients\n",
    "print('Coefficients: \\n', regr.coef_)\n",
    "\n",
    "# The mean squared error\n",
    "print(\"Mean squared error: %.2f\" % mean_squared_error(target_test, target_pred))\n",
    "\n",
    "# Explained variance score: 1 is perfect prediction\n",
    "print('Variance score: %.2f' % r2_score(target_test, target_pred))\n",
    "\n",
    "# Plot outputs\n",
    "#plt.scatter(rf_test.budget.values, target_test.revenue.values,  color='black')\n",
    "#plt.plot(rf_test.budget.values, target_pred, color='blue', linewidth=3)\n",
    "\n",
    "plt.scatter(target_pred, target_test.revenue.values,  color='black')"
   ]
  },
  {
   "cell_type": "markdown",
   "metadata": {},
   "source": [
    "[4 Marks]\n",
    "# e\n",
    "\n",
    "Try a non-linear fit to the data, with and without regularization. Find your best fit and justify the choice of parameters, regularization constant and norm. Plot predicted revenue vs. actual revenue on the test set. In each case, quantify the error. (See e.g. Generalized linear models, Kernel Ridge regression, SVR and others from sklearn)"
   ]
  },
  {
   "cell_type": "code",
   "execution_count": 22,
   "metadata": {},
   "outputs": [],
   "source": [
    "##### YOUR CODE HERE WITHOUT REGULARIZATION #######"
   ]
  },
  {
   "cell_type": "code",
   "execution_count": 23,
   "metadata": {},
   "outputs": [],
   "source": [
    "##### YOUR CODE HERE WITH REGULARIZATION #######"
   ]
  },
  {
   "cell_type": "markdown",
   "metadata": {},
   "source": [
    "## Part 2 [10 Marks]\n",
    "\n",
    "[4 Marks]\n",
    "# a\n",
    "\n",
    "Write a simple version of the basic algorithm for k-means clustering. Simple here means the core of the algorithm and not optimizations or extensions you might find in standard python libraries. Typically you might rely on a standard library for doing this, but it helps to see the core by manipulating the data and labels by hand as practice for numerical python and how to frame the algorithm."
   ]
  },
  {
   "cell_type": "code",
   "execution_count": 6,
   "metadata": {},
   "outputs": [
    {
     "data": {
      "image/png": "[encoded data removed]",
      "text/plain": [
       "<Figure size 432x288 with 1 Axes>"
      ]
     },
     "metadata": {},
     "output_type": "display_data"
    }
   ],
   "source": [
    "# Import packages\n",
    "%matplotlib inline\n",
    "import matplotlib.pyplot as plt\n",
    "import seaborn as sns; sns.set()  # for plot styling\n",
    "import numpy as np\n",
    "\n",
    "\n",
    "# Generate Samples\n",
    "from sklearn.datasets.samples_generator import make_blobs\n",
    "X, y_true = make_blobs(n_samples=300, centers=4,\n",
    "                       cluster_std=0.60, random_state=0)\n",
    "plt.scatter(X[:, 0], X[:, 1], s=50);\n",
    "\n",
    "###############################################\n",
    "# YOUR CODE GOES HERE\n",
    "# Put some code to find clusters here\n",
    "# Assign the clusters and labels in your code\n",
    "###############################################\n",
    "\n",
    "\n",
    "\n",
    "\n",
    "# Uncomment to display clusters and cluster centers\n",
    "#plt.scatter(X[:, 0], X[:, 1], c=labels,\n",
    "#            s=50, cmap='viridis');\n",
    "#plt.scatter(centers[:, 0], centers[:, 1], c='black', s=200, alpha=0.5);"
   ]
  },
  {
   "cell_type": "markdown",
   "metadata": {},
   "source": [
    "<a id=\"data set\"></a>\n",
    "[6 Marks]\n",
    "# b\n",
    "\n",
    "Load the mystery data below, and cluster the data (you don't need to use your code from part a). Visualize the data including assigned cluster labels."
   ]
  },
  {
   "cell_type": "code",
   "execution_count": 7,
   "metadata": {
    "scrolled": true
   },
   "outputs": [
    {
     "data": {
      "text/plain": [
       "(30309, 784)"
      ]
     },
     "execution_count": 7,
     "metadata": {},
     "output_type": "execute_result"
    }
   ],
   "source": [
    "# Load the mystery data here and cluster using k-means (now you can use libraries e.g. sklearn)\n",
    "mystery = np.load('mystery.npy')\n",
    "mystery.shape"
   ]
  },
  {
   "cell_type": "code",
   "execution_count": 26,
   "metadata": {},
   "outputs": [],
   "source": [
    "# Find a way to visualize the data (e.g. in 2D or 3D), color datapoints based on assigned labels.\n"
   ]
  },
  {
   "cell_type": "markdown",
   "metadata": {},
   "source": [
    "Based on the results above and any other analysis you wish to include, discuss how many clusters you see in the data.\n",
    "\n",
    "YOUR EXPLANATION HERE\n",
    "\n",
    "(any additional code supporting your assertion on the number of clusters may be included below)"
   ]
  },
  {
   "cell_type": "code",
   "execution_count": 27,
   "metadata": {},
   "outputs": [],
   "source": [
    "##### YOUR (OPTIONAL) CODE HERE #######"
   ]
  },
  {
   "cell_type": "markdown",
   "metadata": {},
   "source": [
    "[2 Marks]\n",
    "# Bonus"
   ]
  },
  {
   "cell_type": "markdown",
   "metadata": {},
   "source": [
    "What is the mystery data in part 2? Show this in markdown and code below."
   ]
  },
  {
   "cell_type": "markdown",
   "metadata": {},
   "source": [
    "EXPLANATION HERE, code goes below."
   ]
  },
  {
   "cell_type": "code",
   "execution_count": 28,
   "metadata": {},
   "outputs": [],
   "source": [
    "##### YOUR (OPTIONAL) CODE HERE #######"
   ]
  },
  {
   "cell_type": "markdown",
   "metadata": {},
   "source": [
    "[10 Marks]\n",
    "# CP 8318 Questions"
   ]
  },
  {
   "cell_type": "markdown",
   "metadata": {},
   "source": [
    "Describe how you might implement a solution to recommend new movies to a user based on their existing preferences or ratings from Part 1."
   ]
  },
  {
   "cell_type": "markdown",
   "metadata": {},
   "source": [
    "YOUR EXPLANATION HERE, provide an example for one user id below."
   ]
  },
  {
   "cell_type": "code",
   "execution_count": 29,
   "metadata": {},
   "outputs": [],
   "source": [
    "##### YOUR CODE HERE #######\n"
   ]
  },
  {
   "cell_type": "code",
   "execution_count": null,
   "metadata": {},
   "outputs": [],
   "source": []
  }
 ],
 "metadata": {
  "kernelspec": {
   "display_name": "Python 3",
   "language": "python",
   "name": "python3"
  },
  "language_info": {
   "codemirror_mode": {
    "name": "ipython",
    "version": 3
   },
   "file_extension": ".py",
   "mimetype": "text/x-python",
   "name": "python",
   "nbconvert_exporter": "python",
   "pygments_lexer": "ipython3",
   "version": "3.7.0"
  }
 },
 "nbformat": 4,
 "nbformat_minor": 2
}
